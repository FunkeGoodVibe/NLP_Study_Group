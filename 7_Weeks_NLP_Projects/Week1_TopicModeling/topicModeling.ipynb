{
 "cells": [
  {
   "cell_type": "markdown",
   "metadata": {},
   "source": [
    "## Topic Modeling "
   ]
  },
  {
   "cell_type": "code",
   "execution_count": 16,
   "metadata": {},
   "outputs": [],
   "source": [
    "import pandas as pd\n",
    "import numpy as np\n",
    "import json\n",
    "import matplotlib.pyplot as plt\n"
   ]
  },
  {
   "cell_type": "code",
   "execution_count": 29,
   "metadata": {},
   "outputs": [
    {
     "data": {
      "text/plain": [
       "['The search for new administrators in complex systems is an important activity. The special requirements of academic organizations, particularly those with health centers, present some unique considerations that can confound this important and difficult process. Typically, national searches attract a sizable candidate list composed of persons with diverse backgrounds and experiences, and a committee is empowered to sort through their qualifications. A critical step in the planning of each search is the development of a process that allows participatory decision making while not requiring too much time. Too often the search becomes an unmanageable activity that confuses the searchers and frustrates the administration. A seven-step process has proven successful for use by committees to attract and sort through written candidate applications, to agree upon a preliminary ranking of candidates and to reach a consensus on a final list of recommendations. The process could be applied in almost any organizational setting.',\n",
       " 'The human N-formyl peptide receptor (FPR) is a key modulator of chemotaxis directing granulocytes toward sites of bacterial infections. FPR is the founding member of a subfamily of G protein-coupled receptors thought to function in inflammatory processes. The other two members, FPR-like (FPRL)1 and FPRL2, have a greatly reduced affinity for bacterial peptides or do not bind them at all, with FPRL2 being considered an orphan receptor so far. In this study we show that a peptide derived from the N-terminal domain of the anti-inflammatory protein annexin 1 (lipocortin 1) can activate all three FPR family members at similar concentrations. The annexin 1 peptide initiates chemotactic responses in human monocytes that express all three FPR family members and also desensitizes the cells toward subsequent stimulation with bacterial peptide agonists. Experiments using HEK 293 cells stably expressing a single FPR family member reveal that all three receptors can be activated and desensitized by the N-terminal annexin 1 peptide. These observations identify the annexin 1 peptide as the first endogenous ligand of FPRL2 and indicate that annexin 1 participates in regulating leukocyte emigration into inflamed tissue by activating and desensitizing different receptors of the FPR family.',\n",
       " 'Serum CA 19-9 (2-3 sialyl Le(a)) is a marker of malignant disorder such as pancreas or gall bladder cancers. It has been reported that sera from patients with interstitial pneumonia show elevated level of CA 19-9. To investigate the relationship between the elevation of serum CA 19-9 (sCA 19-9) and the presence of pulmonary fibrosis, we examined the level of sCA 19-9 in sera from patients with rheumatic diseases with or without interstitial pneumonia (IP). The sCA 19-9 level was determined by enzyme-linked immunosorbent assay (ELISA). Fourteen sera of 129 (10.9%) patients with rheumatic diseases without malignant disorders were positive for sCA 19-9 when normal range was determined as less than 100 U/ml (mean +/- 5 SD), and 26.7% of sera from poly/dermatomyositis (PM/DM) and 11.8% of systemic sclerosis (PSS) were positive for CA 19-9. Whereas only 8.0% of rheumatoid arthritis (RA) was positive. Twelve (28.6%) of 42 rheumatic patients with IP showed positive levels for sCA 19-9 (mean 142.5 +/- 363.0 U/ml), whereas only two (2.3%) of 87 without IP were positive (mean 33.9 +/- 65.8 U/ml; p < 0.05). The correlation between the level of sCA 19-9 and pulmonary diffusing capacity (%DLCO) revealed an inverse correlation in 32 rheumatic patients with IP (r = -0.43, p < 0.05). Furthermore, the elevated sCA 19-9 levels decreased after treatment with corticosteroid and/or cyclophosphamide or cyclosporin A. Therefore, elevation of the level of sCA 19-9 seems to be involved in the pathogenesis of IP and sCA 19-9 will be a useful parameter for IP. It has been reported that the CA 19-9 is produced from the bronchial glands and suggested that during chronic fibrotic process of the lung, the metaplastic change of the bronchial glandular cells occur and the cells produce CA 19-9.']"
      ]
     },
     "execution_count": 29,
     "metadata": {},
     "output_type": "execute_result"
    }
   ],
   "source": [
    "filename = \"sample-S2-records\"\n",
    "df = pd.read_json(filename, lines=True) \n",
    "abstract = df['paperAbstract']\n",
    "absDictionary = abstract.head().to_dict()\n",
    "absData = []\n",
    "for key in absDictionary:\n",
    "    if absDictionary[key] !='':\n",
    "        absData.append(absDictionary[key])\n",
    "#absData"
   ]
  },
  {
   "cell_type": "code",
   "execution_count": 30,
   "metadata": {},
   "outputs": [],
   "source": [
    "from sklearn.feature_extraction.text import TfidfVectorizer, CountVectorizer\n",
    "\n",
    "no_features = 1000\n",
    "\n",
    "# LDA can only use raw term counts for LDA because it is a probabilistic graphical model\n",
    "tf_vectorizer = CountVectorizer(max_df=0.95, min_df=2, max_features=no_features, stop_words='english')\n",
    "tf = tf_vectorizer.fit_transform(absData)\n",
    "tf_feature_names = tf_vectorizer.get_feature_names()"
   ]
  },
  {
   "cell_type": "code",
   "execution_count": 31,
   "metadata": {},
   "outputs": [
    {
     "name": "stderr",
     "output_type": "stream",
     "text": [
      "/Users/nahalam/anaconda3/envs/carnd-term1/lib/python3.5/site-packages/sklearn/decomposition/online_lda.py:294: DeprecationWarning: n_topics has been renamed to n_components in version 0.19 and will be removed in 0.21\n",
      "  DeprecationWarning)\n"
     ]
    }
   ],
   "source": [
    "from sklearn.decomposition import NMF, LatentDirichletAllocation\n",
    "\n",
    "no_topics = 20\n",
    "# Run LDA\n",
    "lda = LatentDirichletAllocation(n_topics=no_topics, max_iter=5, learning_method='online', learning_offset=50.,random_state=0).fit(tf)"
   ]
  },
  {
   "cell_type": "markdown",
   "metadata": {},
   "source": [
    "## Evaluating Topics"
   ]
  },
  {
   "cell_type": "code",
   "execution_count": 36,
   "metadata": {},
   "outputs": [
    {
     "name": "stdout",
     "output_type": "stream",
     "text": [
      "Topic 0:\n",
      "cells process\n",
      "Topic 1:\n",
      "cells process\n",
      "Topic 2:\n",
      "process cells\n",
      "Topic 3:\n",
      "cells process\n",
      "Topic 4:\n",
      "cells process\n",
      "Topic 5:\n",
      "cells process\n",
      "Topic 6:\n",
      "process cells\n",
      "Topic 7:\n",
      "cells process\n",
      "Topic 8:\n",
      "cells process\n",
      "Topic 9:\n",
      "cells process\n",
      "Topic 10:\n",
      "cells process\n",
      "Topic 11:\n",
      "cells process\n",
      "Topic 12:\n",
      "process cells\n",
      "Topic 13:\n",
      "process cells\n",
      "Topic 14:\n",
      "process cells\n",
      "Topic 15:\n",
      "process cells\n",
      "Topic 16:\n",
      "process cells\n",
      "Topic 17:\n",
      "cells process\n",
      "Topic 18:\n",
      "process cells\n",
      "Topic 19:\n",
      "cells process\n"
     ]
    }
   ],
   "source": [
    "def display_topics(model, feature_names, no_top_words):\n",
    "    for topic_idx, topic in enumerate(model.components_):\n",
    "        print (\"Topic %d:\" % (topic_idx))\n",
    "        print (\" \".join([feature_names[i] for i in topic.argsort()[:-no_top_words - 1:-1]]))\n",
    "\n",
    "no_top_words = 10\n",
    "display_topics(lda, tf_feature_names, no_top_words)"
   ]
  },
  {
   "cell_type": "code",
   "execution_count": 5,
   "metadata": {},
   "outputs": [
    {
     "name": "stderr",
     "output_type": "stream",
     "text": [
      "Downloading 20news dataset. This may take a few minutes.\n",
      "Downloading dataset from https://ndownloader.figshare.com/files/5975967 (14 MB)\n"
     ]
    }
   ],
   "source": [
    "from sklearn.datasets import fetch_20newsgroups\n",
    "\n",
    "#dataset = fetch_20newsgroups(shuffle=True, random_state=1, remove=('headers', 'footers', 'quotes'))\n",
    "#documents = dataset.data"
   ]
  },
  {
   "cell_type": "code",
   "execution_count": null,
   "metadata": {},
   "outputs": [],
   "source": []
  }
 ],
 "metadata": {
  "kernelspec": {
   "display_name": "Python 3",
   "language": "python",
   "name": "python3"
  },
  "language_info": {
   "codemirror_mode": {
    "name": "ipython",
    "version": 3
   },
   "file_extension": ".py",
   "mimetype": "text/x-python",
   "name": "python",
   "nbconvert_exporter": "python",
   "pygments_lexer": "ipython3",
   "version": "3.5.2"
  }
 },
 "nbformat": 4,
 "nbformat_minor": 2
}
