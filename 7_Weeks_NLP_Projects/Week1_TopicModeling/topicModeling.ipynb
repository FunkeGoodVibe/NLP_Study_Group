{
 "cells": [
  {
   "cell_type": "markdown",
   "metadata": {},
   "source": [
    "## Topic Modeling "
   ]
  },
  {
   "cell_type": "code",
   "execution_count": 1,
   "metadata": {},
   "outputs": [],
   "source": [
    "import pandas as pd\n",
    "import numpy as np\n",
    "import json\n",
    "import matplotlib.pyplot as plt\n"
   ]
  },
  {
   "cell_type": "code",
   "execution_count": 11,
   "metadata": {},
   "outputs": [
    {
     "name": "stdout",
     "output_type": "stream",
     "text": [
      "58\n"
     ]
    }
   ],
   "source": [
    "filename = \"sample-S2-records\"\n",
    "df = pd.read_json(filename, lines=True) \n",
    "abstract = df['paperAbstract']\n",
    "abstract.replace('', np.NaN)\n",
    "\n",
    "\n",
    "absDictionary = abstract.to_dict()\n",
    "absData = []\n",
    "for key in absDictionary:\n",
    "    if absDictionary[key] =='':\n",
    "        continue\n",
    "    else:\n",
    "        absData.append(absDictionary[key])\n",
    "\n",
    "print(len(absData))"
   ]
  },
  {
   "cell_type": "code",
   "execution_count": 12,
   "metadata": {},
   "outputs": [],
   "source": [
    "from sklearn.feature_extraction.text import TfidfVectorizer, CountVectorizer\n",
    "\n",
    "no_features = 1000\n",
    "\n",
    "# LDA can only use raw term counts for LDA because it is a probabilistic graphical model\n",
    "tf_vectorizer = CountVectorizer(max_df=0.95, min_df=2, max_features=no_features, stop_words='english')\n",
    "tf = tf_vectorizer.fit_transform(absData)\n",
    "tf_feature_names = tf_vectorizer.get_feature_names()"
   ]
  },
  {
   "cell_type": "code",
   "execution_count": 13,
   "metadata": {},
   "outputs": [
    {
     "name": "stderr",
     "output_type": "stream",
     "text": [
      "/Users/nahalam/anaconda3/envs/carnd-term1/lib/python3.5/site-packages/sklearn/decomposition/online_lda.py:294: DeprecationWarning: n_topics has been renamed to n_components in version 0.19 and will be removed in 0.21\n",
      "  DeprecationWarning)\n"
     ]
    }
   ],
   "source": [
    "from sklearn.decomposition import NMF, LatentDirichletAllocation\n",
    "\n",
    "no_topics = 20\n",
    "# Run LDA\n",
    "lda = LatentDirichletAllocation(n_topics=no_topics, max_iter=5, learning_method='online', learning_offset=50.,random_state=0).fit(tf)"
   ]
  },
  {
   "cell_type": "markdown",
   "metadata": {},
   "source": [
    "## Evaluating Topics"
   ]
  },
  {
   "cell_type": "code",
   "execution_count": 14,
   "metadata": {},
   "outputs": [
    {
     "name": "stdout",
     "output_type": "stream",
     "text": [
      "Topic 0:\n",
      "19 ca ip patients positive level sera mean ml 05\n",
      "Topic 1:\n",
      "time children hypothermia days immunized hydrogen later conditions medical work\n",
      "Topic 2:\n",
      "health stroke self poor disability associated based ci 95 factors\n",
      "Topic 3:\n",
      "control optimal network neural method fed performance ii paper flow\n",
      "Topic 4:\n",
      "skin technology sensor using influence role common epidermal dna studied\n",
      "Topic 5:\n",
      "add rna paper formation enzyme dna children shown using maximum\n",
      "Topic 6:\n",
      "fusion stages function study observations completely suggest differences related days\n",
      "Topic 7:\n",
      "mg simultaneously state predict years model rate 50 achieved applying\n",
      "Topic 8:\n",
      "authors body min organs 30 al currently series visceral et\n",
      "Topic 9:\n",
      "liver symptoms patients clinical metastasis signs findings compromise metastases synchronous\n",
      "Topic 10:\n",
      "essential local days mainly dependent hospital device hypothermia future activity\n",
      "Topic 11:\n",
      "living related peptide cancer activity knowledge levels fed care based\n",
      "Topic 12:\n",
      "tumor cells oxygen findings combination ros mitochondrial involved considered significantly\n",
      "Topic 13:\n",
      "plasma phase levels esophageal potent using correlation case microg dimensional\n",
      "Topic 14:\n",
      "mg lower cations determined expression sites models mm time increases\n",
      "Topic 15:\n",
      "ip expression ratio sex mice maturation 9as drive cost female\n",
      "Topic 16:\n",
      "chemotherapy local treatment treatments phase special rate considered role studies\n",
      "Topic 17:\n",
      "variable order rates way control allowed probably variables levels artery\n",
      "Topic 18:\n",
      "number years measured detection total gene species aortic pressure presence\n",
      "Topic 19:\n",
      "pressure perfusion induced dna damage increased effect using proposed various\n"
     ]
    }
   ],
   "source": [
    "def display_topics(model, feature_names, no_top_words):\n",
    "    for topic_idx, topic in enumerate(model.components_):\n",
    "        print (\"Topic %d:\" % (topic_idx))\n",
    "        print (\" \".join([feature_names[i] for i in topic.argsort()[:-no_top_words - 1:-1]]))\n",
    "\n",
    "no_top_words = 10\n",
    "display_topics(lda, tf_feature_names, no_top_words)"
   ]
  }
 ],
 "metadata": {
  "kernelspec": {
   "display_name": "Python 3",
   "language": "python",
   "name": "python3"
  },
  "language_info": {
   "codemirror_mode": {
    "name": "ipython",
    "version": 3
   },
   "file_extension": ".py",
   "mimetype": "text/x-python",
   "name": "python",
   "nbconvert_exporter": "python",
   "pygments_lexer": "ipython3",
   "version": "3.5.2"
  }
 },
 "nbformat": 4,
 "nbformat_minor": 2
}
